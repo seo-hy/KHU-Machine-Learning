{
 "cells": [
  {
   "cell_type": "markdown",
   "id": "e69bbae0",
   "metadata": {},
   "source": [
    "# 4-2. Load Data"
   ]
  },
  {
   "cell_type": "markdown",
   "id": "cc585709",
   "metadata": {},
   "source": [
    "### Slicing 2D Array"
   ]
  },
  {
   "cell_type": "code",
   "execution_count": 19,
   "id": "c9d981da",
   "metadata": {},
   "outputs": [
    {
     "data": {
      "text/plain": [
       "<torch._C.Generator at 0x1f7b960fc10>"
      ]
     },
     "execution_count": 19,
     "metadata": {},
     "output_type": "execute_result"
    }
   ],
   "source": [
    "import numpy as np\n",
    "import torch\n",
    "import torch.nn as nn\n",
    "import torch.nn.functional as F\n",
    "import torch.optim as optim\n",
    "# For reproducibility\n",
    "torch.manual_seed(1)"
   ]
  },
  {
   "cell_type": "code",
   "execution_count": 20,
   "id": "a9e320d7",
   "metadata": {},
   "outputs": [
    {
     "name": "stdout",
     "output_type": "stream",
     "text": [
      "[[ 1  2  3  4]\n",
      " [ 5  6  7  8]\n",
      " [ 9 10 11 12]]\n",
      "[ 2  6 10]\n",
      "[[1 2 3 4]\n",
      " [5 6 7 8]]\n"
     ]
    }
   ],
   "source": [
    "b = np.array([[1, 2, 3, 4], [5, 6, 7, 8], [9, 10, 11, 12]])\n",
    "print(b)\n",
    "print(b[:, 1])\n",
    "print(b[0:2, :])"
   ]
  },
  {
   "cell_type": "markdown",
   "id": "6292c1f4",
   "metadata": {},
   "source": [
    "### Loading Data from .csv file"
   ]
  },
  {
   "cell_type": "code",
   "execution_count": 21,
   "id": "6fd2f1c1",
   "metadata": {},
   "outputs": [],
   "source": [
    "import numpy as np\n",
    "xy = np.loadtxt('data-01-test-score.csv', delimiter=',', dtype=np.float32)"
   ]
  },
  {
   "cell_type": "code",
   "execution_count": 22,
   "id": "c86857fc",
   "metadata": {},
   "outputs": [
    {
     "name": "stdout",
     "output_type": "stream",
     "text": [
      "[[ 73.  80.  75. 152.]\n",
      " [ 93.  88.  93. 185.]\n",
      " [ 89.  91.  90. 180.]\n",
      " [ 96.  98. 100. 196.]\n",
      " [ 73.  66.  70. 142.]\n",
      " [ 53.  46.  55. 101.]\n",
      " [ 69.  74.  77. 149.]\n",
      " [ 47.  56.  60. 115.]\n",
      " [ 87.  79.  90. 175.]\n",
      " [ 79.  70.  88. 164.]\n",
      " [ 69.  70.  73. 141.]\n",
      " [ 70.  65.  74. 141.]\n",
      " [ 93.  95.  91. 184.]\n",
      " [ 79.  80.  73. 152.]\n",
      " [ 70.  73.  78. 148.]\n",
      " [ 93.  89.  96. 192.]\n",
      " [ 78.  75.  68. 147.]\n",
      " [ 81.  90.  93. 183.]\n",
      " [ 88.  92.  86. 177.]\n",
      " [ 78.  83.  77. 159.]\n",
      " [ 82.  86.  90. 177.]\n",
      " [ 86.  82.  89. 175.]\n",
      " [ 78.  83.  85. 175.]\n",
      " [ 76.  83.  71. 149.]\n",
      " [ 96.  93.  95. 192.]]\n"
     ]
    }
   ],
   "source": [
    "print(xy)"
   ]
  },
  {
   "cell_type": "code",
   "execution_count": 23,
   "id": "289133e1",
   "metadata": {},
   "outputs": [
    {
     "name": "stdout",
     "output_type": "stream",
     "text": [
      "(25, 3)\n",
      "25\n",
      "[[ 73.  80.  75.]\n",
      " [ 93.  88.  93.]\n",
      " [ 89.  91.  90.]\n",
      " [ 96.  98. 100.]\n",
      " [ 73.  66.  70.]]\n"
     ]
    }
   ],
   "source": [
    "x_data = xy[:, 0:-1]\n",
    "y_data = xy[:, [-1]]\n",
    "\n",
    "print(x_data.shape) # x_data shape\n",
    "print(len(x_data))  # x_data 길이\n",
    "print(x_data[:5])   # 첫 다섯 개"
   ]
  },
  {
   "cell_type": "code",
   "execution_count": 24,
   "id": "1612e5ee",
   "metadata": {},
   "outputs": [
    {
     "name": "stdout",
     "output_type": "stream",
     "text": [
      "(25, 1)\n",
      "25\n",
      "[[152.]\n",
      " [185.]\n",
      " [180.]\n",
      " [196.]\n",
      " [142.]]\n"
     ]
    }
   ],
   "source": [
    "print(y_data.shape) # y_data shape\n",
    "print(len(y_data))  # y_data 길이\n",
    "print(y_data[:5])   # 첫 다섯 개"
   ]
  },
  {
   "cell_type": "code",
   "execution_count": 27,
   "id": "8b9dc60f",
   "metadata": {},
   "outputs": [],
   "source": [
    "class MultivariateLinearRegressionModel(nn.Module):\n",
    "    def __init__(self):\n",
    "        super().__init__()\n",
    "        self.linear = nn.Linear(3, 1)\n",
    "\n",
    "    def forward(self, x):\n",
    "        return self.linear(x)"
   ]
  },
  {
   "cell_type": "code",
   "execution_count": 28,
   "id": "3e542039",
   "metadata": {},
   "outputs": [
    {
     "name": "stdout",
     "output_type": "stream",
     "text": [
      "Epoch    0/20 Cost: 35661.042969\n",
      "Epoch    1/20 Cost: 13196.481445\n",
      "Epoch    2/20 Cost: 4890.704590\n",
      "Epoch    3/20 Cost: 1819.822144\n",
      "Epoch    4/20 Cost: 684.425293\n",
      "Epoch    5/20 Cost: 264.631256\n",
      "Epoch    6/20 Cost: 109.414558\n",
      "Epoch    7/20 Cost: 52.020180\n",
      "Epoch    8/20 Cost: 30.793091\n",
      "Epoch    9/20 Cost: 22.938217\n",
      "Epoch   10/20 Cost: 20.027298\n",
      "Epoch   11/20 Cost: 18.944389\n",
      "Epoch   12/20 Cost: 18.537270\n",
      "Epoch   13/20 Cost: 18.380072\n",
      "Epoch   14/20 Cost: 18.315281\n",
      "Epoch   15/20 Cost: 18.284649\n",
      "Epoch   16/20 Cost: 18.266670\n",
      "Epoch   17/20 Cost: 18.253357\n",
      "Epoch   18/20 Cost: 18.241745\n",
      "Epoch   19/20 Cost: 18.230818\n",
      "Epoch   20/20 Cost: 18.220142\n"
     ]
    }
   ],
   "source": [
    "x_train = torch.FloatTensor(x_data)\n",
    "y_train = torch.FloatTensor(y_data)\n",
    "\n",
    "model = MultivariateLinearRegressionModel()\n",
    "\n",
    "optimizer = optim.SGD(model.parameters(), lr=1e-5)\n",
    "\n",
    "nb_epochs = 20\n",
    "for epoch in range(nb_epochs+1):\n",
    "    \n",
    "    # H(x) 계산\n",
    "    prediction = model(x_train)\n",
    "    \n",
    "    # cost 계산\n",
    "    cost = F.mse_loss(prediction, y_train)\n",
    "    \n",
    "    # cost로 H(x) 개선\n",
    "    optimizer.zero_grad()\n",
    "    cost.backward()\n",
    "    optimizer.step()\n",
    "    \n",
    "    # 20번마다 로그 출력\n",
    "    print('Epoch {:4d}/{} Cost: {:.6f}'.format(\n",
    "        epoch, nb_epochs, cost.item()\n",
    "    ))"
   ]
  }
 ],
 "metadata": {
  "kernelspec": {
   "display_name": "Python 3",
   "language": "python",
   "name": "python3"
  },
  "language_info": {
   "codemirror_mode": {
    "name": "ipython",
    "version": 3
   },
   "file_extension": ".py",
   "mimetype": "text/x-python",
   "name": "python",
   "nbconvert_exporter": "python",
   "pygments_lexer": "ipython3",
   "version": "3.7.11"
  }
 },
 "nbformat": 4,
 "nbformat_minor": 5
}
