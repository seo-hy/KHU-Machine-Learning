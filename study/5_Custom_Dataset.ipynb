{
 "cells": [
  {
   "cell_type": "markdown",
   "id": "73ff6a05",
   "metadata": {},
   "source": [
    "# 5. Custom Dataset"
   ]
  },
  {
   "cell_type": "markdown",
   "id": "8ce82b8e",
   "metadata": {},
   "source": [
    "## Custom Dataset으로 선형 회기 구현"
   ]
  },
  {
   "cell_type": "code",
   "execution_count": 4,
   "id": "1db59b34",
   "metadata": {},
   "outputs": [],
   "source": [
    "import torch\n",
    "import torch.nn.functional as F\n",
    "\n",
    "from torch.utils.data import Dataset\n",
    "from torch.utils.data import DataLoader"
   ]
  },
  {
   "cell_type": "code",
   "execution_count": 7,
   "id": "dfe9b6fe",
   "metadata": {},
   "outputs": [],
   "source": [
    "class CustomDataset(Dataset): \n",
    "    def __init__(self):\n",
    "        # 데이터셋의 전처리\n",
    "        self.x_data = [[73, 80, 75],\n",
    "                       [93, 88, 93],\n",
    "                       [89, 91, 90],\n",
    "                       [96, 98, 100],\n",
    "                       [73, 66, 70]]\n",
    "        self.y_data = [[152], [185], [180], [196], [142]]\n",
    "\n",
    "    # 총 데이터의 개수를 리턴\n",
    "    def __len__(self): \n",
    "        return len(self.x_data)\n",
    "\n",
    "    # 인덱스를 입력받아 그에 맵핑되는 입출력 데이터를 파이토치의 Tensor 형태로 리턴\n",
    "    def __getitem__(self, idx): \n",
    "        x = torch.FloatTensor(self.x_data[idx])\n",
    "        y = torch.FloatTensor(self.y_data[idx])\n",
    "        return x, y"
   ]
  },
  {
   "cell_type": "code",
   "execution_count": 8,
   "id": "4ec24d9d",
   "metadata": {},
   "outputs": [],
   "source": [
    "dataset = CustomDataset()\n",
    "dataloader = DataLoader(dataset, batch_size=2, shuffle=True)\n",
    "model = torch.nn.Linear(3,1)\n",
    "optimizer = torch.optim.SGD(model.parameters(), lr=1e-5) "
   ]
  },
  {
   "cell_type": "code",
   "execution_count": 9,
   "id": "c58340a1",
   "metadata": {},
   "outputs": [
    {
     "name": "stdout",
     "output_type": "stream",
     "text": [
      "Epoch    0/20 Batch 1/3 Cost: 23071.781250\n",
      "Epoch    0/20 Batch 2/3 Cost: 17581.359375\n",
      "Epoch    0/20 Batch 3/3 Cost: 3703.553467\n",
      "Epoch    1/20 Batch 1/3 Cost: 857.132324\n",
      "Epoch    1/20 Batch 2/3 Cost: 194.912857\n",
      "Epoch    1/20 Batch 3/3 Cost: 103.150658\n",
      "Epoch    2/20 Batch 1/3 Cost: 16.461069\n",
      "Epoch    2/20 Batch 2/3 Cost: 10.970636\n",
      "Epoch    2/20 Batch 3/3 Cost: 2.953000\n",
      "Epoch    3/20 Batch 1/3 Cost: 1.246342\n",
      "Epoch    3/20 Batch 2/3 Cost: 0.095024\n",
      "Epoch    3/20 Batch 3/3 Cost: 0.104377\n",
      "Epoch    4/20 Batch 1/3 Cost: 0.678439\n",
      "Epoch    4/20 Batch 2/3 Cost: 0.123370\n",
      "Epoch    4/20 Batch 3/3 Cost: 0.118091\n",
      "Epoch    5/20 Batch 1/3 Cost: 0.094797\n",
      "Epoch    5/20 Batch 2/3 Cost: 0.531496\n",
      "Epoch    5/20 Batch 3/3 Cost: 0.011195\n",
      "Epoch    6/20 Batch 1/3 Cost: 0.219992\n",
      "Epoch    6/20 Batch 2/3 Cost: 0.042411\n",
      "Epoch    6/20 Batch 3/3 Cost: 0.917457\n",
      "Epoch    7/20 Batch 1/3 Cost: 0.213808\n",
      "Epoch    7/20 Batch 2/3 Cost: 0.640260\n",
      "Epoch    7/20 Batch 3/3 Cost: 0.005267\n",
      "Epoch    8/20 Batch 1/3 Cost: 0.454890\n",
      "Epoch    8/20 Batch 2/3 Cost: 0.011374\n",
      "Epoch    8/20 Batch 3/3 Cost: 0.298672\n",
      "Epoch    9/20 Batch 1/3 Cost: 0.560366\n",
      "Epoch    9/20 Batch 2/3 Cost: 0.011229\n",
      "Epoch    9/20 Batch 3/3 Cost: 0.244175\n",
      "Epoch   10/20 Batch 1/3 Cost: 0.613752\n",
      "Epoch   10/20 Batch 2/3 Cost: 0.024911\n",
      "Epoch   10/20 Batch 3/3 Cost: 0.066373\n",
      "Epoch   11/20 Batch 1/3 Cost: 0.116618\n",
      "Epoch   11/20 Batch 2/3 Cost: 0.045001\n",
      "Epoch   11/20 Batch 3/3 Cost: 0.958777\n",
      "Epoch   12/20 Batch 1/3 Cost: 0.234996\n",
      "Epoch   12/20 Batch 2/3 Cost: 0.154505\n",
      "Epoch   12/20 Batch 3/3 Cost: 0.861088\n",
      "Epoch   13/20 Batch 1/3 Cost: 0.398469\n",
      "Epoch   13/20 Batch 2/3 Cost: 0.304441\n",
      "Epoch   13/20 Batch 3/3 Cost: 0.015352\n",
      "Epoch   14/20 Batch 1/3 Cost: 0.050674\n",
      "Epoch   14/20 Batch 2/3 Cost: 0.482792\n",
      "Epoch   14/20 Batch 3/3 Cost: 0.414241\n",
      "Epoch   15/20 Batch 1/3 Cost: 0.513222\n",
      "Epoch   15/20 Batch 2/3 Cost: 0.068332\n",
      "Epoch   15/20 Batch 3/3 Cost: 0.215187\n",
      "Epoch   16/20 Batch 1/3 Cost: 0.069614\n",
      "Epoch   16/20 Batch 2/3 Cost: 0.052825\n",
      "Epoch   16/20 Batch 3/3 Cost: 1.164131\n",
      "Epoch   17/20 Batch 1/3 Cost: 0.034010\n",
      "Epoch   17/20 Batch 2/3 Cost: 0.486746\n",
      "Epoch   17/20 Batch 3/3 Cost: 0.209240\n",
      "Epoch   18/20 Batch 1/3 Cost: 0.024249\n",
      "Epoch   18/20 Batch 2/3 Cost: 0.129105\n",
      "Epoch   18/20 Batch 3/3 Cost: 1.134458\n",
      "Epoch   19/20 Batch 1/3 Cost: 0.490361\n",
      "Epoch   19/20 Batch 2/3 Cost: 0.154791\n",
      "Epoch   19/20 Batch 3/3 Cost: 0.011797\n",
      "Epoch   20/20 Batch 1/3 Cost: 0.408714\n",
      "Epoch   20/20 Batch 2/3 Cost: 0.194451\n",
      "Epoch   20/20 Batch 3/3 Cost: 0.004536\n"
     ]
    }
   ],
   "source": [
    "nb_epochs = 20\n",
    "for epoch in range(nb_epochs + 1):\n",
    "  for batch_idx, samples in enumerate(dataloader):\n",
    "    # print(batch_idx)\n",
    "    # print(samples)\n",
    "    x_train, y_train = samples\n",
    "    # H(x) 계산\n",
    "    prediction = model(x_train)\n",
    "\n",
    "    # cost 계산\n",
    "    cost = F.mse_loss(prediction, y_train)\n",
    "\n",
    "    # cost로 H(x) 계산\n",
    "    optimizer.zero_grad()\n",
    "    cost.backward()\n",
    "    optimizer.step()\n",
    "\n",
    "    print('Epoch {:4d}/{} Batch {}/{} Cost: {:.6f}'.format(\n",
    "        epoch, nb_epochs, batch_idx+1, len(dataloader),\n",
    "        cost.item()\n",
    "        ))"
   ]
  },
  {
   "cell_type": "code",
   "execution_count": 10,
   "id": "2edaaf79",
   "metadata": {},
   "outputs": [
    {
     "name": "stdout",
     "output_type": "stream",
     "text": [
      "훈련 후 입력이 73, 80, 75일 때의 예측값 : tensor([[151.0829]], grad_fn=<AddmmBackward>)\n"
     ]
    }
   ],
   "source": [
    "# 임의의 입력 [73, 80, 75]를 선언\n",
    "new_var =  torch.FloatTensor([[73, 80, 75]]) \n",
    "# 입력한 값 [73, 80, 75]에 대해서 예측값 y를 리턴받아서 pred_y에 저장\n",
    "pred_y = model(new_var) \n",
    "print(\"훈련 후 입력이 73, 80, 75일 때의 예측값 :\", pred_y) "
   ]
  },
  {
   "cell_type": "code",
   "execution_count": null,
   "id": "b4dadd73",
   "metadata": {},
   "outputs": [],
   "source": []
  }
 ],
 "metadata": {
  "kernelspec": {
   "display_name": "Python 3",
   "language": "python",
   "name": "python3"
  },
  "language_info": {
   "codemirror_mode": {
    "name": "ipython",
    "version": 3
   },
   "file_extension": ".py",
   "mimetype": "text/x-python",
   "name": "python",
   "nbconvert_exporter": "python",
   "pygments_lexer": "ipython3",
   "version": "3.7.11"
  }
 },
 "nbformat": 4,
 "nbformat_minor": 5
}
